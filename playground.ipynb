{
 "cells": [
  {
   "cell_type": "code",
   "execution_count": 1,
   "metadata": {},
   "outputs": [],
   "source": [
    "import re\n",
    "import torch\n",
    "import warnings\n",
    "from transformers import logging\n",
    "\n",
    "from medixar.agent import Agent\n",
    "from medixar.tools import WebSearchTool\n",
    "from medixar.utils import load_system_prompt\n",
    "\n",
    "warnings.filterwarnings(\"ignore\")\n",
    "logging.set_verbosity_error()"
   ]
  },
  {
   "cell_type": "code",
   "execution_count": 2,
   "metadata": {},
   "outputs": [],
   "source": [
    "web_search_tool = WebSearchTool()\n",
    "\n",
    "agent = Agent(\n",
    "    model=\"meta-llama/Llama-3.2-1B-Instruct\",\n",
    "    tools={\"web_search\": web_search_tool},\n",
    "    tools_json_path=\"medixar/docs/tools.json\",\n",
    "    system_prompts_file=\"medixar/docs/system_prompts.txt\",\n",
    "    system_prompt_type=\"MEDICAL_ASSISTANT\",\n",
    "    device=\"auto\",\n",
    "    torch_dtype=torch.float16,\n",
    "    max_new_tokens=250,\n",
    "    temperature=0.7,\n",
    "    top_p=0.95\n",
    ")"
   ]
  },
  {
   "cell_type": "code",
   "execution_count": 3,
   "metadata": {},
   "outputs": [
    {
     "name": "stdout",
     "output_type": "stream",
     "text": [
      "You are a professional medical assistant.\n",
      "Your role is to provide accurate and helpful information on medical topics, always prioritizing patient safety and recommending professional medical advice when necessary.\n",
      "Always think about the best way to answer the user's question inside <thinking></thinking> tags.\n",
      "If you need to use tools, wrap your tool call around <tool></tool> tags.\n",
      "\n",
      "Tools:\n",
      "Tool: web_search\n",
      "Description: Search the web for information.\n",
      "Usage: For web search, provide a clear and concise search query as string. Return `<tool> web_search(your_search_query) </tool>` to call the tool. Expected return is a string.\n",
      "Input type: str\n",
      "Return type: str\n",
      "\n",
      "\n"
     ]
    }
   ],
   "source": [
    "print(agent.system_prompt)"
   ]
  },
  {
   "cell_type": "code",
   "execution_count": 4,
   "metadata": {},
   "outputs": [
    {
     "name": "stdout",
     "output_type": "stream",
     "text": [
      "tool=\"web_search\"\n",
      "print(f\"<tool> {tool} (Your query) </tool>\")\n"
     ]
    }
   ],
   "source": [
    "response = agent.generate(\"What is all you need? Respond using web search tool.\")\n",
    "print(response)"
   ]
  },
  {
   "cell_type": "code",
   "execution_count": 5,
   "metadata": {},
   "outputs": [
    {
     "data": {
      "text/plain": [
       "[{'role': 'system',\n",
       "  'content': \"You are a professional medical assistant.\\nYour role is to provide accurate and helpful information on medical topics, always prioritizing patient safety and recommending professional medical advice when necessary.\\nAlways think about the best way to answer the user's question inside <thinking></thinking> tags.\\nIf you need to use tools, wrap your tool call around <tool></tool> tags.\\n\\nTools:\\nTool: web_search\\nDescription: Search the web for information.\\nUsage: For web search, provide a clear and concise search query as string. Return `<tool> web_search(your_search_query) </tool>` to call the tool. Expected return is a string.\\nInput type: str\\nReturn type: str\\n\\n\"},\n",
       " {'role': 'user',\n",
       "  'content': 'What is all you need? Respond using web search tool.'},\n",
       " {'role': 'assistant', 'content': ''},\n",
       " {'role': 'tool',\n",
       "  'content': 'Your query is processed. The response is Attention is all you need***'},\n",
       " {'role': 'assistant',\n",
       "  'content': 'tool=\"web_search\"\\nprint(f\"<tool> {tool} (Your query) </tool>\")'}]"
      ]
     },
     "execution_count": 5,
     "metadata": {},
     "output_type": "execute_result"
    }
   ],
   "source": [
    "agent.messages"
   ]
  },
  {
   "cell_type": "code",
   "execution_count": 6,
   "metadata": {},
   "outputs": [
    {
     "data": {
      "text/plain": [
       "'The answer to \"what is all you need\" is \"Attention is all you need\" by Brian Eno.'"
      ]
     },
     "execution_count": 6,
     "metadata": {},
     "output_type": "execute_result"
    }
   ],
   "source": [
    "agent.generate(\"what was the answer to what is all you need?\")"
   ]
  }
 ],
 "metadata": {
  "kernelspec": {
   "display_name": "light",
   "language": "python",
   "name": "python3"
  },
  "language_info": {
   "codemirror_mode": {
    "name": "ipython",
    "version": 3
   },
   "file_extension": ".py",
   "mimetype": "text/x-python",
   "name": "python",
   "nbconvert_exporter": "python",
   "pygments_lexer": "ipython3",
   "version": "3.12.2"
  }
 },
 "nbformat": 4,
 "nbformat_minor": 2
}
