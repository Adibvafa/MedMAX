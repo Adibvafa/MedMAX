{
 "cells": [
  {
   "cell_type": "code",
   "execution_count": null,
   "metadata": {},
   "outputs": [],
   "source": [
    "import operator\n",
    "import warnings\n",
    "from typing import Annotated, TypedDict\n",
    "\n",
    "import torch\n",
    "from dotenv import load_dotenv\n",
    "from IPython.display import Image\n",
    "from langgraph.checkpoint.memory import MemorySaver\n",
    "from langgraph.graph import END, StateGraph\n",
    "from langchain_community.tools.tavily_search import TavilySearchResults\n",
    "from langchain_core.messages import AnyMessage, HumanMessage, SystemMessage, ToolMessage\n",
    "from langchain_openai import ChatOpenAI\n",
    "from transformers import logging\n",
    "\n",
    "from medixar.agent import *\n",
    "from medixar.tools import *\n",
    "from medixar.utils import *\n",
    "\n",
    "warnings.filterwarnings(\"ignore\")\n",
    "logging.set_verbosity_error()\n",
    "_ = load_dotenv()\n",
    "\n",
    "PROMPT_FILE = \"medixar/docs/system_prompts.txt\"\n",
    "\n",
    "\"\"\"\n",
    "1. Change the LLM to public LLM\n",
    "2. Add other tools + integrate tool baackend\n",
    "4. Choose agent name\n",
    "5. Explore code generation\n",
    "6. SFT or example database, prompt enhancing to make tool call better\n",
    "\"\"\""
   ]
  },
  {
   "cell_type": "code",
   "execution_count": null,
   "metadata": {},
   "outputs": [],
   "source": [
    "report_tool = RadiologyReportGeneratorTool()\n",
    "organ_size_tool = OrganSizeMeasurementTool()\n",
    "chest_xray_tool = ChestXRayClassifierTool()\n",
    "\n",
    "print(f\"Type: {type(report_tool)}, Name: {report_tool.name}\")\n",
    "print(f\"Type: {type(organ_size_tool)}, Name: {organ_size_tool.name}\")\n",
    "print(f\"Type: {type(chest_xray_tool)}, Name: {chest_xray_tool.name}\")"
   ]
  },
  {
   "cell_type": "code",
   "execution_count": null,
   "metadata": {},
   "outputs": [],
   "source": [
    "prompts = load_prompts_from_file(PROMPT_FILE)\n",
    "prompt = prompts[\"MEDICAL_ASSISTANT\"]\n",
    "print(prompt)"
   ]
  },
  {
   "cell_type": "code",
   "execution_count": null,
   "metadata": {},
   "outputs": [],
   "source": [
    "checkpointer = MemorySaver()\n",
    "model = ChatOpenAI(model=\"gpt-4o-2024-08-06\", temperature=0, top_p=0.95)\n",
    "agent = Agent(model, [report_tool, organ_size_tool, chest_xray_tool], system=prompt, checkpointer=checkpointer)\n",
    "thread = {\"configurable\": {\"thread_id\": \"1\"}}\n",
    "\n",
    "Image(agent.graph.get_graph().draw_png())"
   ]
  },
  {
   "cell_type": "code",
   "execution_count": null,
   "metadata": {},
   "outputs": [],
   "source": [
    "messages = [HumanMessage(content=\"Does the image `demo/chest/pneumonia4.jpg` show pneumonia?\")]\n",
    "\n",
    "for event in agent.graph.stream({\"messages\": messages}, thread):\n",
    "    for v in event.values():\n",
    "        print(v['messages'])"
   ]
  },
  {
   "cell_type": "code",
   "execution_count": null,
   "metadata": {},
   "outputs": [],
   "source": [
    "messages = [HumanMessage(content=\"Describe the radiology image in detail.\")]\n",
    "\n",
    "for event in agent.graph.stream({\"messages\": messages}, thread):\n",
    "    for v in event.values():\n",
    "        print(v['messages'])"
   ]
  },
  {
   "cell_type": "code",
   "execution_count": null,
   "metadata": {},
   "outputs": [],
   "source": [
    "messages = [HumanMessage(content=\"What is the volume of the heart (mL)?\")]\n",
    "\n",
    "for event in agent.graph.stream({\"messages\": messages}, thread):\n",
    "    for v in event.values():\n",
    "        print(v['messages'][-1].content)"
   ]
  },
  {
   "cell_type": "code",
   "execution_count": null,
   "metadata": {},
   "outputs": [],
   "source": [
    "messages = [HumanMessage(content=\"What was the first question I asked?\")]\n",
    "\n",
    "for event in agent.graph.stream({\"messages\": messages}, thread):\n",
    "    for v in event.values():\n",
    "        print(v['messages'][-1].content)"
   ]
  },
  {
   "cell_type": "code",
   "execution_count": null,
   "metadata": {},
   "outputs": [],
   "source": [
    "# Nested tool calls\n",
    "messages = [HumanMessage(content=\"What is the name and size of first organ mention in radiology report of `image.png`\")]\n",
    "\n",
    "for event in agent.graph.stream({\"messages\": messages}, thread):\n",
    "    for v in event.values():\n",
    "        print(v['messages'])"
   ]
  },
  {
   "cell_type": "code",
   "execution_count": null,
   "metadata": {},
   "outputs": [],
   "source": [
    "############################################################# LEGACY CODE #############################################################\n",
    "# web_search_tool = WebSearchTool()\n",
    "\n",
    "# agent = Agent(\n",
    "#     model=\"meta-llama/Llama-3.2-1B-Instruct\",\n",
    "#     tools={\"web_search\": web_search_tool},\n",
    "#     tools_json_path=\"medixar/docs/tools.json\",\n",
    "#     system_prompts_file=\"medixar/docs/system_prompts.txt\",\n",
    "#     system_prompt_type=\"MEDICAL_ASSISTANT\",\n",
    "#     device=\"auto\",\n",
    "#     torch_dtype=torch.float16,\n",
    "#     max_new_tokens=250,\n",
    "#     temperature=0.7,\n",
    "#     top_p=0.95\n",
    "# )\n",
    "\n",
    "# response = agent.generate(\"What is all you need? Respond using web search tool.\")\n",
    "# agent.messages\n",
    "# agent.generate(\"what was the answer to what is all you need?\")"
   ]
  }
 ],
 "metadata": {
  "kernelspec": {
   "display_name": "light",
   "language": "python",
   "name": "python3"
  },
  "language_info": {
   "codemirror_mode": {
    "name": "ipython",
    "version": 3
   },
   "file_extension": ".py",
   "mimetype": "text/x-python",
   "name": "python",
   "nbconvert_exporter": "python",
   "pygments_lexer": "ipython3",
   "version": "3.12.2"
  }
 },
 "nbformat": 4,
 "nbformat_minor": 2
}
