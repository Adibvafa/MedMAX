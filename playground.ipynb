{
 "cells": [
  {
   "cell_type": "code",
   "execution_count": 2,
   "metadata": {},
   "outputs": [],
   "source": [
    "import torch\n",
    "import warnings\n",
    "from transformers import logging\n",
    "\n",
    "from medixar.agent.agent import Agent\n",
    "\n",
    "warnings.filterwarnings(\"ignore\")\n",
    "logging.set_verbosity_error()"
   ]
  },
  {
   "cell_type": "code",
   "execution_count": 3,
   "metadata": {},
   "outputs": [
    {
     "name": "stdout",
     "output_type": "stream",
     "text": [
      "I'm doing well, thank you for asking. How can I assist you today? Is there a specific medical topic you'd like to know more about, or do you have a personal health concern you'd like to discuss? I'm here to provide information and guidance to the best of my abilities.\n"
     ]
    }
   ],
   "source": [
    "agent = Agent(\n",
    "    model=\"meta-llama/Llama-3.2-1B-Instruct\",\n",
    "    tools={},\n",
    "    system_prompts_file=\"medixar/prompts/system_prompts.txt\",\n",
    "    system_prompt_type=\"MEDICAL_ASSISTANT\",\n",
    "    device=\"auto\",\n",
    "    torch_dtype=torch.float16\n",
    ")\n",
    "\n",
    "response = agent.generate(\"Hello, how are you?\")\n",
    "print(response)"
   ]
  }
 ],
 "metadata": {
  "kernelspec": {
   "display_name": "light",
   "language": "python",
   "name": "python3"
  },
  "language_info": {
   "codemirror_mode": {
    "name": "ipython",
    "version": 3
   },
   "file_extension": ".py",
   "mimetype": "text/x-python",
   "name": "python",
   "nbconvert_exporter": "python",
   "pygments_lexer": "ipython3",
   "version": "3.12.2"
  }
 },
 "nbformat": 4,
 "nbformat_minor": 2
}
