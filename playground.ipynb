{
 "cells": [
  {
   "cell_type": "code",
   "execution_count": 7,
   "metadata": {},
   "outputs": [
    {
     "data": {
      "text/plain": [
       "'\\n1. Change the LLM to public LLM\\n3. Explore code generation\\n4. SFT or example database, prompt enhancing to make tool call better\\n5. Add segmentation tool, radiology report + get the tool call json\\n6. How to incorporate new tools easily?\\n'"
      ]
     },
     "execution_count": 7,
     "metadata": {},
     "output_type": "execute_result"
    }
   ],
   "source": [
    "import operator\n",
    "import warnings\n",
    "from typing import Annotated, TypedDict\n",
    "\n",
    "import torch\n",
    "from dotenv import load_dotenv\n",
    "from IPython.display import Image\n",
    "from langgraph.checkpoint.memory import MemorySaver\n",
    "from langgraph.graph import END, StateGraph\n",
    "from langchain_community.tools.tavily_search import TavilySearchResults\n",
    "from langchain_core.messages import AnyMessage, HumanMessage, SystemMessage, ToolMessage\n",
    "from langchain_openai import ChatOpenAI\n",
    "from transformers import logging\n",
    "\n",
    "from medmax.agent import *\n",
    "from medmax.tools import *\n",
    "from medmax.utils import *\n",
    "\n",
    "warnings.filterwarnings(\"ignore\")\n",
    "logging.set_verbosity_error()\n",
    "_ = load_dotenv()\n",
    "\n",
    "PROMPT_FILE = \"medmax/docs/system_prompts.txt\"\n",
    "\n",
    "\"\"\"\n",
    "1. Change the LLM to public LLM\n",
    "3. Explore code generation\n",
    "4. SFT or example database, prompt enhancing to make tool call better\n",
    "5. Add segmentation tool, radiology report + get the tool call json\n",
    "6. How to incorporate new tools easily?\n",
    "\"\"\""
   ]
  },
  {
   "cell_type": "code",
   "execution_count": 2,
   "metadata": {},
   "outputs": [
    {
     "data": {
      "application/vnd.jupyter.widget-view+json": {
       "model_id": "d994f1d30098428383d60fe3ee338c8f",
       "version_major": 2,
       "version_minor": 0
      },
      "text/plain": [
       "Loading checkpoint shards:   0%|          | 0/4 [00:00<?, ?it/s]"
      ]
     },
     "metadata": {},
     "output_type": "display_data"
    },
    {
     "name": "stdout",
     "output_type": "stream",
     "text": [
      "Type: <class 'medmax.tools.tools.RadiologyReportGeneratorTool'>, Name: radiology_report_generator\n",
      "Type: <class 'medmax.tools.tools.OrganSizeMeasurementTool'>, Name: organ_size_measurement\n",
      "Type: <class 'medmax.tools.tools.ChestXRayClassifierTool'>, Name: chest_xray_classifier\n",
      "Type: <class 'medmax.tools.tools.MedicalVisualQATool'>, Name: medical_visual_qa\n"
     ]
    }
   ],
   "source": [
    "report_tool = RadiologyReportGeneratorTool()\n",
    "organ_size_tool = OrganSizeMeasurementTool()\n",
    "xray_classification_tool = ChestXRayClassifierTool()\n",
    "medical_visual_qa_tool = MedicalVisualQATool()\n",
    "\n",
    "print(f\"Type: {type(report_tool)}, Name: {report_tool.name}\")\n",
    "print(f\"Type: {type(organ_size_tool)}, Name: {organ_size_tool.name}\")\n",
    "print(f\"Type: {type(xray_classification_tool)}, Name: {xray_classification_tool.name}\")\n",
    "print(f\"Type: {type(medical_visual_qa_tool)}, Name: {medical_visual_qa_tool.name}\")"
   ]
  },
  {
   "cell_type": "code",
   "execution_count": 3,
   "metadata": {},
   "outputs": [
    {
     "name": "stdout",
     "output_type": "stream",
     "text": [
      "You are a smart medical assistant. Use the tools available to answer questions.\n",
      "You are allowed to make multiple calls (either together or in sequence).\n",
      "For best reposense to user, use multiple tools in sequences if needed.\n",
      "If you need to look up some information before asking a follow up question, you are allowed to do that!\n"
     ]
    }
   ],
   "source": [
    "prompts = load_prompts_from_file(PROMPT_FILE)\n",
    "prompt = prompts[\"MEDICAL_ASSISTANT\"]\n",
    "print(prompt)"
   ]
  },
  {
   "cell_type": "code",
   "execution_count": 10,
   "metadata": {},
   "outputs": [],
   "source": [
    "checkpointer = MemorySaver()\n",
    "model = ChatOpenAI(model=\"gpt-4o-2024-08-06\", temperature=0, top_p=0.95)\n",
    "agent = Agent(model, [xray_classification_tool, medical_visual_qa_tool], system_prompt=prompt, checkpointer=checkpointer)\n",
    "thread = {\"configurable\": {\"thread_id\": \"1\"}}\n",
    "\n",
    "# Image(agent.graph.get_graph().draw_png())"
   ]
  },
  {
   "cell_type": "code",
   "execution_count": 11,
   "metadata": {},
   "outputs": [],
   "source": [
    "# messages = [HumanMessage(content=\"Does the image `demo/chest/pneumonia4.jpg` show pneumonia?\")]\n",
    "# messages = [HumanMessage(content=\"Provide a radiology report for the given image `demo/chest/pneumonia2.jpg`.\")]\n",
    "# messages = [HumanMessage(content=\"Descibe the given image.\")]\n",
    "# messages = [HumanMessage(content=\"What is the volume of the heart (mL)?\")]\n",
    "# messages = [HumanMessage(content=\"What was the first question I asked?\")]\n",
    "# messages = [HumanMessage(content=\"What is the name and size of first organ mention in radiology report of `image.png`\")]\n",
    "# messages = [HumanMessage(content=\"What is the probability of pneumonia in the image?\")]\n",
    "messages = [HumanMessage(content=\"Does the patient with chest xray given here need to go see doctor? `demo/chest/normal1.jpg`\")]"
   ]
  },
  {
   "cell_type": "code",
   "execution_count": 13,
   "metadata": {},
   "outputs": [
    {
     "name": "stdout",
     "output_type": "stream",
     "text": [
      "{'messages': [AIMessage(content='', additional_kwargs={'tool_calls': [{'id': 'call_gdhXo0OjrXoI4TwxihoV4zZ8', 'function': {'arguments': '{\"image_path\":\"demo/chest/normal1.jpg\"}', 'name': 'chest_xray_classifier'}, 'type': 'function'}], 'refusal': None}, response_metadata={'token_usage': {'completion_tokens': 24, 'prompt_tokens': 364, 'total_tokens': 388, 'completion_tokens_details': {'audio_tokens': None, 'reasoning_tokens': 0}, 'prompt_tokens_details': {'audio_tokens': None, 'cached_tokens': 0}}, 'model_name': 'gpt-4o-2024-08-06', 'system_fingerprint': 'fp_90354628f2', 'finish_reason': 'tool_calls', 'logprobs': None}, id='run-94f65e32-cd23-4a1a-836c-87c43f68752a-0', tool_calls=[{'name': 'chest_xray_classifier', 'args': {'image_path': 'demo/chest/normal1.jpg'}, 'id': 'call_gdhXo0OjrXoI4TwxihoV4zZ8', 'type': 'tool_call'}], usage_metadata={'input_tokens': 364, 'output_tokens': 24, 'total_tokens': 388, 'input_token_details': {'cache_read': 0}, 'output_token_details': {'reasoning': 0}})]}\n",
      "Executing tool: {'name': 'chest_xray_classifier', 'args': {'image_path': 'demo/chest/normal1.jpg'}, 'id': 'call_gdhXo0OjrXoI4TwxihoV4zZ8', 'type': 'tool_call'}\n",
      "Warning: Input size (1736x1736) is not the native resolution (224x224) for this model. A resize will be performed but this could impact performance.\n",
      "Returning to model processing!\n",
      "{'messages': [ToolMessage(content=\"({'Atelectasis': 0.5173297, 'Consolidation': 0.08683097, 'Infiltration': 0.058255926, 'Pneumothorax': 0.5003496, 'Edema': 0.1129568, 'Emphysema': 0.50161314, 'Fibrosis': 0.14461422, 'Effusion': 0.10781294, 'Pneumonia': 0.18103437, 'Pleural_Thickening': 0.22134037, 'Cardiomegaly': 0.1288678, 'Nodule': 0.367328, 'Mass': 0.083172515, 'Hernia': 0.09045775, 'Lung Lesion': 0.5085391, 'Fracture': 0.52573806, 'Lung Opacity': 0.33845684, 'Enlarged Cardiomediastinum': 0.5017766}, {'image_path': 'demo/chest/normal1.jpg', 'analysis_status': 'completed', 'note': 'Probabilities range from 0 to 1, with higher values indicating higher likelihood of the condition.'})\", name='chest_xray_classifier', tool_call_id='call_gdhXo0OjrXoI4TwxihoV4zZ8')]}\n",
      "{'messages': [AIMessage(content='The chest X-ray analysis indicates the following probabilities for various conditions:\\n\\n- Atelectasis: 0.52\\n- Pneumothorax: 0.50\\n- Emphysema: 0.50\\n- Lung Lesion: 0.51\\n- Fracture: 0.53\\n- Enlarged Cardiomediastinum: 0.50\\n\\nThese probabilities suggest a moderate likelihood of several conditions, particularly Atelectasis, Pneumothorax, Emphysema, Lung Lesion, Fracture, and Enlarged Cardiomediastinum. Given these findings, it would be advisable for the patient to consult a doctor for a thorough evaluation and appropriate management.', additional_kwargs={'refusal': None}, response_metadata={'token_usage': {'completion_tokens': 147, 'prompt_tokens': 671, 'total_tokens': 818, 'completion_tokens_details': {'audio_tokens': None, 'reasoning_tokens': 0}, 'prompt_tokens_details': {'audio_tokens': None, 'cached_tokens': 0}}, 'model_name': 'gpt-4o-2024-08-06', 'system_fingerprint': 'fp_90354628f2', 'finish_reason': 'stop', 'logprobs': None}, id='run-359cd398-3c06-4607-8642-63ec65c3dd30-0', usage_metadata={'input_tokens': 671, 'output_tokens': 147, 'total_tokens': 818, 'input_token_details': {'cache_read': 0}, 'output_token_details': {'reasoning': 0}})]}\n"
     ]
    }
   ],
   "source": [
    "for event in agent.workflow.stream({\"messages\": messages}, thread):\n",
    "    for v in event.values():\n",
    "        print(v)"
   ]
  }
 ],
 "metadata": {
  "kernelspec": {
   "display_name": "Python 3 (ipykernel)",
   "language": "python",
   "name": "python3"
  },
  "language_info": {
   "codemirror_mode": {
    "name": "ipython",
    "version": 3
   },
   "file_extension": ".py",
   "mimetype": "text/x-python",
   "name": "python",
   "nbconvert_exporter": "python",
   "pygments_lexer": "ipython3",
   "version": "3.10.9"
  }
 },
 "nbformat": 4,
 "nbformat_minor": 2
}
